{
 "cells": [
  {
   "cell_type": "code",
   "execution_count": null,
   "metadata": {},
   "outputs": [],
   "source": [
    "test_file = \"data-01/test-input.txt\"\n",
    "main_file = \"data-01/input.txt\""
   ]
  },
  {
   "cell_type": "code",
   "execution_count": null,
   "metadata": {},
   "outputs": [],
   "source": [
    "def decode_section_assignment_group(raw_line):\n",
    "\n",
    "    line = raw_line.rstrip('\\n').split(\",\")\n",
    "    return (\n",
    "        tuple([int(s) for s in line[0].split('-')]),\n",
    "        tuple([int(s) for s in line[1].split('-')]),\n",
    "    )\n",
    "\n",
    "\n",
    "print(decode_section_assignment_group(\"2-4,6-8\\n\"))\n",
    "print(decode_section_assignment_group(\"34-82,33-81\\n\"))"
   ]
  },
  {
   "cell_type": "code",
   "execution_count": null,
   "metadata": {},
   "outputs": [],
   "source": [
    "def check_partial_overlap(x):\n",
    "    r1, r2 = x\n",
    "    \n",
    "    a, b = r1\n",
    "    c, d = r2\n",
    "\n",
    "    range1_set = set(range(a, b+1))\n",
    "    range2_set = set(range(c, d+1))\n",
    "\n",
    "    range_overlap = range1_set & range2_set\n",
    "\n",
    "    print(range_overlap)\n",
    "    if len(range_overlap) > 0:\n",
    "        return True\n",
    "\n",
    "    return False\n",
    "\n",
    "\n",
    "print(check_partial_overlap(((2, 4), (6, 8))))\n",
    "print(check_partial_overlap(((6, 6), (6, 8))))\n",
    "print(check_partial_overlap(((6, 6), (4, 6))))\n",
    "print(check_partial_overlap(((2, 8), (3, 7))))\n",
    "print(check_partial_overlap(((2, 4), (6, 8))))\n",
    "print(check_partial_overlap(((2, 4), (6, 8))))"
   ]
  },
  {
   "cell_type": "code",
   "execution_count": null,
   "metadata": {},
   "outputs": [],
   "source": [
    "def challenge_04_2(input_file):\n",
    "    with open(input_file) as f:\n",
    "        lines = f.readlines()\n",
    "    # print(lines)\n",
    "\n",
    "    section_assignment_groups = {\n",
    "        i+1: decode_section_assignment_group(lines[i]) for i in range(len(lines))\n",
    "    }\n",
    "    #print(section_assignment_groups)\n",
    "\n",
    "    overlapping_assignment_groups = {\n",
    "        k: v \n",
    "        for k, v in section_assignment_groups.items() \n",
    "        if check_partial_overlap(v)\n",
    "    }\n",
    "    # print(overlapping_assignment_groups)\n",
    "\n",
    "    return len(overlapping_assignment_groups)\n",
    "\n",
    "\n",
    "challenge_04_2(input_file=test_file)"
   ]
  },
  {
   "cell_type": "code",
   "execution_count": null,
   "metadata": {},
   "outputs": [],
   "source": [
    "challenge_04_2(input_file=main_file)"
   ]
  }
 ],
 "metadata": {
  "kernelspec": {
   "display_name": "Python 3.11.0 ('base')",
   "language": "python",
   "name": "python3"
  },
  "language_info": {
   "codemirror_mode": {
    "name": "ipython",
    "version": 3
   },
   "file_extension": ".py",
   "mimetype": "text/x-python",
   "name": "python",
   "nbconvert_exporter": "python",
   "pygments_lexer": "ipython3",
   "version": "3.11.0"
  },
  "orig_nbformat": 4,
  "vscode": {
   "interpreter": {
    "hash": "d4d1e4263499bec80672ea0156c357c1ee493ec2b1c70f0acce89fc37c4a6abe"
   }
  }
 },
 "nbformat": 4,
 "nbformat_minor": 2
}
